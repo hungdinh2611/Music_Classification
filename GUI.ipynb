{
 "cells": [
  {
   "cell_type": "code",
   "execution_count": 2,
   "id": "96f987ce",
   "metadata": {},
   "outputs": [],
   "source": [
    "import customtkinter\n",
    "from tkinterdnd2 import *\n",
    "import librosa,librosa.display\n",
    "import numpy as np\n",
    "from tkinter import *"
   ]
  },
  {
   "cell_type": "code",
   "execution_count": 3,
   "id": "8a4d5d10",
   "metadata": {},
   "outputs": [],
   "source": [
    "TITLE  = 'MUSIC CLASSIFICATION APP'\n",
    "SIZE ='720x360'\n",
    "ICON_PATH = \"C:/Users/Admin/Desktop/Music_Classification/GUI/icon/icon.png\""
   ]
  },
  {
   "cell_type": "code",
   "execution_count": 4,
   "id": "c25c5c87",
   "metadata": {},
   "outputs": [],
   "source": [
    "class Tk(customtkinter.CTk, TkinterDnD.DnDWrapper):\n",
    "    def __init__(self, *args, **kwargs):\n",
    "        super().__init__(*args, **kwargs)\n",
    "        self.TkdndVersion = TkinterDnD._require(self)\n",
    "\n",
    "customtkinter.set_appearance_mode(\"dark\")\n",
    "#customtkinter.set_default_color_theme(\"blue\")\n",
    "\n",
    "def get_path(event):\n",
    "    pathLabel.configure(text = event.data)\n",
    "    \n",
    "root = Tk()\n",
    "root.geometry(SIZE)\n",
    "root.title(TITLE)\n",
    "root.iconbitmap(ICON_PATH)\n",
    "\n",
    "nameVar = StringVar()\n",
    "\n",
    "entryWidget = customtkinter.CTkEntry(root)\n",
    "entryWidget.pack(side=TOP, padx=5, pady=5)\n",
    "\n",
    "pathLabel = customtkinter.CTkLabel(root, text=\"Drop Music Audio File In the Box\")\n",
    "pathLabel.pack(side=TOP)\n",
    "\n",
    "entryWidget.drop_target_register(DND_ALL)\n",
    "entryWidget.dnd_bind(\"<<Drop>>\", get_path)\n",
    "\n",
    "root.mainloop()"
   ]
  },
  {
   "cell_type": "code",
   "execution_count": null,
   "id": "b316d4cf",
   "metadata": {},
   "outputs": [],
   "source": []
  }
 ],
 "metadata": {
  "kernelspec": {
   "display_name": "Python 3 (ipykernel)",
   "language": "python",
   "name": "python3"
  },
  "language_info": {
   "codemirror_mode": {
    "name": "ipython",
    "version": 3
   },
   "file_extension": ".py",
   "mimetype": "text/x-python",
   "name": "python",
   "nbconvert_exporter": "python",
   "pygments_lexer": "ipython3",
   "version": "3.10.9"
  }
 },
 "nbformat": 4,
 "nbformat_minor": 5
}
