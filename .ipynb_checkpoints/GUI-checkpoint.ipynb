{
 "cells": [
  {
   "cell_type": "code",
   "execution_count": 1,
   "id": "8716ef0e",
   "metadata": {
    "collapsed": true
   },
   "outputs": [
    {
     "name": "stderr",
     "output_type": "stream",
     "text": [
      "ERROR: Could not find a version that satisfies the requirement tkinter (from versions: none)\n",
      "ERROR: No matching distribution found for tkinter\n"
     ]
    },
    {
     "name": "stdout",
     "output_type": "stream",
     "text": [
      "^C\n",
      "Requirement already satisfied: tkinterdnd2 in c:\\users\\admin\\anaconda3\\lib\\site-packages (0.3.0)\n",
      "Requirement already satisfied: customtkinter in c:\\users\\admin\\anaconda3\\lib\\site-packages (5.2.2)\n",
      "Requirement already satisfied: packaging in c:\\users\\admin\\anaconda3\\lib\\site-packages (from customtkinter) (23.2)\n",
      "Requirement already satisfied: darkdetect in c:\\users\\admin\\anaconda3\\lib\\site-packages (from customtkinter) (0.8.0)\n",
      "Requirement already satisfied: librosa in c:\\users\\admin\\anaconda3\\lib\\site-packages (0.10.2.post1)\n",
      "Requirement already satisfied: numba>=0.51.0 in c:\\users\\admin\\anaconda3\\lib\\site-packages (from librosa) (0.56.4)\n",
      "Requirement already satisfied: msgpack>=1.0 in c:\\users\\admin\\anaconda3\\lib\\site-packages (from librosa) (1.0.3)\n",
      "Requirement already satisfied: lazy-loader>=0.1 in c:\\users\\admin\\anaconda3\\lib\\site-packages (from librosa) (0.4)\n",
      "Requirement already satisfied: soundfile>=0.12.1 in c:\\users\\admin\\anaconda3\\lib\\site-packages (from librosa) (0.12.1)\n",
      "Requirement already satisfied: scipy>=1.2.0 in c:\\users\\admin\\anaconda3\\lib\\site-packages (from librosa) (1.10.0)\n",
      "Requirement already satisfied: decorator>=4.3.0 in c:\\users\\admin\\anaconda3\\lib\\site-packages (from librosa) (5.1.1)\n",
      "Requirement already satisfied: audioread>=2.1.9 in c:\\users\\admin\\anaconda3\\lib\\site-packages (from librosa) (3.0.1)\n",
      "Requirement already satisfied: pooch>=1.1 in c:\\users\\admin\\anaconda3\\lib\\site-packages (from librosa) (1.4.0)\n",
      "Requirement already satisfied: joblib>=0.14 in c:\\users\\admin\\anaconda3\\lib\\site-packages (from librosa) (1.1.1)\n",
      "Requirement already satisfied: typing-extensions>=4.1.1 in c:\\users\\admin\\anaconda3\\lib\\site-packages (from librosa) (4.11.0)\n",
      "Requirement already satisfied: soxr>=0.3.2 in c:\\users\\admin\\anaconda3\\lib\\site-packages (from librosa) (0.3.7)\n",
      "Requirement already satisfied: numpy!=1.22.0,!=1.22.1,!=1.22.2,>=1.20.3 in c:\\users\\admin\\anaconda3\\lib\\site-packages (from librosa) (1.23.5)\n",
      "Requirement already satisfied: scikit-learn>=0.20.0 in c:\\users\\admin\\anaconda3\\lib\\site-packages (from librosa) (1.2.1)\n",
      "Requirement already satisfied: packaging in c:\\users\\admin\\anaconda3\\lib\\site-packages (from lazy-loader>=0.1->librosa) (23.2)\n",
      "Requirement already satisfied: setuptools in c:\\users\\admin\\anaconda3\\lib\\site-packages (from numba>=0.51.0->librosa) (65.6.3)\n",
      "Requirement already satisfied: llvmlite<0.40,>=0.39.0dev0 in c:\\users\\admin\\anaconda3\\lib\\site-packages (from numba>=0.51.0->librosa) (0.39.1)\n",
      "Requirement already satisfied: appdirs in c:\\users\\admin\\anaconda3\\lib\\site-packages (from pooch>=1.1->librosa) (1.4.4)\n",
      "Requirement already satisfied: requests in c:\\users\\admin\\anaconda3\\lib\\site-packages (from pooch>=1.1->librosa) (2.28.1)\n",
      "Requirement already satisfied: threadpoolctl>=2.0.0 in c:\\users\\admin\\anaconda3\\lib\\site-packages (from scikit-learn>=0.20.0->librosa) (2.2.0)\n",
      "Requirement already satisfied: cffi>=1.0 in c:\\users\\admin\\anaconda3\\lib\\site-packages (from soundfile>=0.12.1->librosa) (1.15.1)\n",
      "Requirement already satisfied: pycparser in c:\\users\\admin\\anaconda3\\lib\\site-packages (from cffi>=1.0->soundfile>=0.12.1->librosa) (2.21)\n",
      "Requirement already satisfied: idna<4,>=2.5 in c:\\users\\admin\\anaconda3\\lib\\site-packages (from requests->pooch>=1.1->librosa) (3.4)\n",
      "Requirement already satisfied: urllib3<1.27,>=1.21.1 in c:\\users\\admin\\anaconda3\\lib\\site-packages (from requests->pooch>=1.1->librosa) (1.26.14)\n",
      "Requirement already satisfied: certifi>=2017.4.17 in c:\\users\\admin\\anaconda3\\lib\\site-packages (from requests->pooch>=1.1->librosa) (2024.2.2)\n",
      "Requirement already satisfied: charset-normalizer<3,>=2 in c:\\users\\admin\\anaconda3\\lib\\site-packages (from requests->pooch>=1.1->librosa) (2.0.4)\n"
     ]
    }
   ],
   "source": [
    "!pip install tkinter\n",
    "!python -m pip install tkinterdnd2\n",
    "!pip3 install customtkinter\n",
    "!pip install librosa"
   ]
  },
  {
   "cell_type": "code",
   "execution_count": 15,
   "id": "96f987ce",
   "metadata": {},
   "outputs": [
    {
     "ename": "SyntaxError",
     "evalue": "invalid syntax (AudioPreprocessing.ipynb, line 9)",
     "output_type": "error",
     "traceback": [
      "Traceback \u001b[1;36m(most recent call last)\u001b[0m:\n",
      "\u001b[0m  File \u001b[0;32m~\\anaconda3\\lib\\site-packages\\IPython\\core\\interactiveshell.py:3460\u001b[0m in \u001b[0;35mrun_code\u001b[0m\n    exec(code_obj, self.user_global_ns, self.user_ns)\u001b[0m\n",
      "\u001b[0m  Cell \u001b[0;32mIn[15], line 6\u001b[0m\n    from ipynb.fs.full.AudioPreprocessing import *\u001b[0m\n",
      "\u001b[0m  File \u001b[0;32m<frozen importlib._bootstrap>:1027\u001b[0m in \u001b[0;35m_find_and_load\u001b[0m\n",
      "\u001b[0m  File \u001b[0;32m<frozen importlib._bootstrap>:1006\u001b[0m in \u001b[0;35m_find_and_load_unlocked\u001b[0m\n",
      "\u001b[0m  File \u001b[0;32m<frozen importlib._bootstrap>:688\u001b[0m in \u001b[0;35m_load_unlocked\u001b[0m\n",
      "\u001b[0m  File \u001b[0;32m<frozen importlib._bootstrap_external>:879\u001b[0m in \u001b[0;35mexec_module\u001b[0m\n",
      "\u001b[1;36m  File \u001b[1;32m~\\anaconda3\\lib\\site-packages\\ipynb\\fs\\full\\__init__.py:43\u001b[1;36m in \u001b[1;35mget_code\u001b[1;36m\n\u001b[1;33m    return self.source_to_code(code_from_ipynb(nb), self.path)\u001b[1;36m\n",
      "\u001b[1;36m  File \u001b[1;32m~\\Desktop\\Music_Classification\\AudioPreprocessing.ipynb:9\u001b[1;36m\u001b[0m\n\u001b[1;33m    \"source\": [\u001b[0m\n\u001b[1;37m    ^\u001b[0m\n\u001b[1;31mSyntaxError\u001b[0m\u001b[1;31m:\u001b[0m invalid syntax\n"
     ]
    }
   ],
   "source": [
    "import customtkinter\n",
    "from tkinterdnd2 import *\n",
    "import librosa,librosa.display\n",
    "import numpy as np\n",
    "from tkinter import *"
   ]
  },
  {
   "cell_type": "code",
   "execution_count": 16,
   "id": "8a4d5d10",
   "metadata": {},
   "outputs": [],
   "source": [
    "TITLE  = 'MUSIC CLASSIFICATION APP'\n",
    "SIZE ='360x180'\n",
    "ICON_PATH = \"C:/Users/Admin/Desktop/Music_Classification/GUI/icon/icon.png\""
   ]
  },
  {
   "cell_type": "code",
   "execution_count": 12,
   "id": "c25c5c87",
   "metadata": {},
   "outputs": [],
   "source": [
    "class Tk(customtkinter.CTk, TkinterDnD.DnDWrapper):\n",
    "    def __init__(self, *args, **kwargs):\n",
    "        super().__init__(*args, **kwargs)\n",
    "        self.TkdndVersion = TkinterDnD._require(self)\n",
    "\n",
    "customtkinter.set_appearance_mode(\"dark\")\n",
    "#customtkinter.set_default_color_theme(\"blue\")\n",
    "\n",
    "def get_path(event):\n",
    "    pathLabel.configure(text = event.data)\n",
    "    \n",
    "root = Tk()\n",
    "root.geometry(SIZE)\n",
    "root.title(TITLE)\n",
    "root.iconbitmap(ICON_PATH)\n",
    "\n",
    "nameVar = StringVar()\n",
    "\n",
    "entryWidget = customtkinter.CTkEntry(root)\n",
    "entryWidget.pack(side=TOP, padx=5, pady=5)\n",
    "\n",
    "pathLabel = customtkinter.CTkLabel(root, text=\"Drop Music Audio File In the Box\")\n",
    "pathLabel.pack(side=TOP)\n",
    "\n",
    "entryWidget.drop_target_register(DND_ALL)\n",
    "entryWidget.dnd_bind(\"<<Drop>>\", get_path)\n",
    "\n",
    "root.mainloop()"
   ]
  },
  {
   "cell_type": "code",
   "execution_count": 13,
   "id": "5241ef12",
   "metadata": {},
   "outputs": [
    {
     "name": "stdout",
     "output_type": "stream",
     "text": [
      "Collecting ipynb\n",
      "  Downloading ipynb-0.5.1-py3-none-any.whl (6.9 kB)\n",
      "Installing collected packages: ipynb\n",
      "Successfully installed ipynb-0.5.1\n"
     ]
    }
   ],
   "source": [
    "!pip install ipynb"
   ]
  },
  {
   "cell_type": "code",
   "execution_count": null,
   "id": "1cc7e7cb",
   "metadata": {},
   "outputs": [],
   "source": []
  }
 ],
 "metadata": {
  "kernelspec": {
   "display_name": "Python 3 (ipykernel)",
   "language": "python",
   "name": "python3"
  },
  "language_info": {
   "codemirror_mode": {
    "name": "ipython",
    "version": 3
   },
   "file_extension": ".py",
   "mimetype": "text/x-python",
   "name": "python",
   "nbconvert_exporter": "python",
   "pygments_lexer": "ipython3",
   "version": "3.10.9"
  }
 },
 "nbformat": 4,
 "nbformat_minor": 5
}
