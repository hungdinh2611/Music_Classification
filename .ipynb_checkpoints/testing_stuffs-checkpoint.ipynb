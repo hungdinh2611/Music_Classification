{
 "cells": [
  {
   "cell_type": "code",
   "execution_count": 1,
   "id": "154018fd",
   "metadata": {},
   "outputs": [],
   "source": [
    "import librosa,librosa.display\n",
    "import numpy as np\n",
    "import os\n",
    "import pandas as pd\n",
    "from glob import glob\n",
    "\n",
    "AUDIO_PATH = 'C:/Users/Admin/Desktop/Music_Classification/Data/genres_original/blues/blues.00000.wav'\n",
    "SR = 22050\n",
    "HOP_LENGTH = 512\n",
    "N_MFCC = 20\n",
    "TITLE  = 'MUSIC CLASSIFICATION APP'\n",
    "SIZE ='720x360'\n",
    "ICON_PATH = \"C:/Users/Admin/Desktop/Music_Classification/GUI/icon/icon.png\"\n",
    "DURATION = 30\n",
    "JSON_PATH = \"data.json\"\n"
   ]
  },
  {
   "cell_type": "code",
   "execution_count": 2,
   "id": "7ca3639d",
   "metadata": {},
   "outputs": [
    {
     "data": {
      "text/plain": [
       "[]"
      ]
     },
     "execution_count": 2,
     "metadata": {},
     "output_type": "execute_result"
    }
   ],
   "source": [
    "dataset_path=AUDIO_PATH\n",
    "audio_files = glob(dataset_path + \"/*/*\")\n",
    "genre = glob(dataset_path + \"/*\")\n",
    "n_genres=len(genre)\n",
    "genres = [path.split('\\\\')[-1] for path in genre]\n",
    "genres"
   ]
  },
  {
   "cell_type": "code",
   "execution_count": 3,
   "id": "37ba163d",
   "metadata": {
    "scrolled": true
   },
   "outputs": [],
   "source": [
    "df = pd.DataFrame(columns=['chroma_stft_mean', 'chroma_stft_var', 'rms_mean', 'rms_var',\n",
    "   'spectral_centroid_mean', 'spectral_centroid_var',\n",
    "   'spectral_bandwidth_mean', 'spectral_bandwidth_var', 'rolloff_mean',\n",
    "   'rolloff_var', 'zero_crossing_rate_mean', 'zero_crossing_rate_var',\n",
    "   'harmony_mean', 'harmony_var', 'perceptr_mean', 'perceptr_var', 'tempo',\n",
    "   'mfcc1_mean', 'mfcc1_var', 'mfcc2_mean', 'mfcc2_var', 'mfcc3_mean',\n",
    "   'mfcc3_var', 'mfcc4_mean', 'mfcc4_var', 'mfcc5_mean', 'mfcc5_var',\n",
    "   'mfcc6_mean', 'mfcc6_var', 'mfcc7_mean', 'mfcc7_var', 'mfcc8_mean',\n",
    "   'mfcc8_var', 'mfcc9_mean', 'mfcc9_var', 'mfcc10_mean', 'mfcc10_var',\n",
    "   'mfcc11_mean', 'mfcc11_var', 'mfcc12_mean', 'mfcc12_var', 'mfcc13_mean',\n",
    "   'mfcc13_var', 'mfcc14_mean', 'mfcc14_var', 'mfcc15_mean', 'mfcc15_var',\n",
    "   'mfcc16_mean', 'mfcc16_var', 'mfcc17_mean', 'mfcc17_var', 'mfcc18_mean',\n",
    "   'mfcc18_var', 'mfcc19_mean', 'mfcc19_var', 'mfcc20_mean', 'mfcc20_var'])\n",
    "\n",
    "genre=\"\"\n",
    "for f in sorted(audio_files):\n",
    "    if genre!=f.split('/')[-2]:\n",
    "        genre=f.split('/')[-2]\n",
    "    fname=f.split('/')[-1]\n",
    "    try:\n",
    "        y, sr = librosa.load(f, sr=SR)\n",
    "    except:\n",
    "        continue\n",
    "\n",
    "    "
   ]
  },
  {
   "cell_type": "code",
   "execution_count": 4,
   "id": "5bf560ec",
   "metadata": {
    "scrolled": true
   },
   "outputs": [
    {
     "data": {
      "text/html": [
       "<div>\n",
       "<style scoped>\n",
       "    .dataframe tbody tr th:only-of-type {\n",
       "        vertical-align: middle;\n",
       "    }\n",
       "\n",
       "    .dataframe tbody tr th {\n",
       "        vertical-align: top;\n",
       "    }\n",
       "\n",
       "    .dataframe thead th {\n",
       "        text-align: right;\n",
       "    }\n",
       "</style>\n",
       "<table border=\"1\" class=\"dataframe\">\n",
       "  <thead>\n",
       "    <tr style=\"text-align: right;\">\n",
       "      <th></th>\n",
       "      <th>chroma_stft_mean</th>\n",
       "      <th>chroma_stft_var</th>\n",
       "      <th>rms_mean</th>\n",
       "      <th>rms_var</th>\n",
       "      <th>spectral_centroid_mean</th>\n",
       "      <th>spectral_centroid_var</th>\n",
       "      <th>spectral_bandwidth_mean</th>\n",
       "      <th>spectral_bandwidth_var</th>\n",
       "      <th>rolloff_mean</th>\n",
       "      <th>rolloff_var</th>\n",
       "      <th>...</th>\n",
       "      <th>mfcc16_mean</th>\n",
       "      <th>mfcc16_var</th>\n",
       "      <th>mfcc17_mean</th>\n",
       "      <th>mfcc17_var</th>\n",
       "      <th>mfcc18_mean</th>\n",
       "      <th>mfcc18_var</th>\n",
       "      <th>mfcc19_mean</th>\n",
       "      <th>mfcc19_var</th>\n",
       "      <th>mfcc20_mean</th>\n",
       "      <th>mfcc20_var</th>\n",
       "    </tr>\n",
       "  </thead>\n",
       "  <tbody>\n",
       "  </tbody>\n",
       "</table>\n",
       "<p>0 rows × 57 columns</p>\n",
       "</div>"
      ],
      "text/plain": [
       "Empty DataFrame\n",
       "Columns: [chroma_stft_mean, chroma_stft_var, rms_mean, rms_var, spectral_centroid_mean, spectral_centroid_var, spectral_bandwidth_mean, spectral_bandwidth_var, rolloff_mean, rolloff_var, zero_crossing_rate_mean, zero_crossing_rate_var, harmony_mean, harmony_var, perceptr_mean, perceptr_var, tempo, mfcc1_mean, mfcc1_var, mfcc2_mean, mfcc2_var, mfcc3_mean, mfcc3_var, mfcc4_mean, mfcc4_var, mfcc5_mean, mfcc5_var, mfcc6_mean, mfcc6_var, mfcc7_mean, mfcc7_var, mfcc8_mean, mfcc8_var, mfcc9_mean, mfcc9_var, mfcc10_mean, mfcc10_var, mfcc11_mean, mfcc11_var, mfcc12_mean, mfcc12_var, mfcc13_mean, mfcc13_var, mfcc14_mean, mfcc14_var, mfcc15_mean, mfcc15_var, mfcc16_mean, mfcc16_var, mfcc17_mean, mfcc17_var, mfcc18_mean, mfcc18_var, mfcc19_mean, mfcc19_var, mfcc20_mean, mfcc20_var]\n",
       "Index: []\n",
       "\n",
       "[0 rows x 57 columns]"
      ]
     },
     "execution_count": 4,
     "metadata": {},
     "output_type": "execute_result"
    }
   ],
   "source": [
    "df"
   ]
  },
  {
   "cell_type": "code",
   "execution_count": 5,
   "id": "283a0728",
   "metadata": {},
   "outputs": [
    {
     "data": {
      "text/plain": [
       "filename                   blues.00000.0.wav\n",
       "length                                 66149\n",
       "chroma_stft_mean                    0.335406\n",
       "chroma_stft_var                     0.091048\n",
       "rms_mean                            0.130405\n",
       "rms_var                             0.003521\n",
       "spectral_centroid_mean           1773.065032\n",
       "spectral_centroid_var          167541.630869\n",
       "spectral_bandwidth_mean          1972.744388\n",
       "spectral_bandwidth_var         117335.771563\n",
       "rolloff_mean                     3714.560359\n",
       "rolloff_var                   1080789.885581\n",
       "zero_crossing_rate_mean             0.081851\n",
       "zero_crossing_rate_var              0.000558\n",
       "harmony_mean                       -0.000078\n",
       "harmony_var                         0.008354\n",
       "perceptr_mean                      -0.000068\n",
       "perceptr_var                        0.005535\n",
       "tempo                             129.199219\n",
       "mfcc1_mean                       -118.627914\n",
       "mfcc1_var                        2440.286621\n",
       "mfcc2_mean                        125.083626\n",
       "mfcc2_var                         260.956909\n",
       "mfcc3_mean                        -23.443724\n",
       "mfcc3_var                         364.081726\n",
       "mfcc4_mean                         41.321484\n",
       "mfcc4_var                         181.694855\n",
       "mfcc5_mean                         -5.976108\n",
       "mfcc5_var                         152.963135\n",
       "mfcc6_mean                         20.115141\n",
       "mfcc6_var                          75.652298\n",
       "mfcc7_mean                         -16.04541\n",
       "mfcc7_var                          40.227104\n",
       "mfcc8_mean                         17.855198\n",
       "mfcc8_var                          84.320282\n",
       "mfcc9_mean                        -14.633434\n",
       "mfcc9_var                          83.437233\n",
       "mfcc10_mean                        10.270527\n",
       "mfcc10_var                         97.001335\n",
       "mfcc11_mean                        -9.708279\n",
       "mfcc11_var                         66.669891\n",
       "mfcc12_mean                        10.183875\n",
       "mfcc12_var                         45.103611\n",
       "mfcc13_mean                        -4.681614\n",
       "mfcc13_var                         34.169498\n",
       "mfcc14_mean                         8.417439\n",
       "mfcc14_var                         48.269444\n",
       "mfcc15_mean                        -7.233477\n",
       "mfcc15_var                         42.770947\n",
       "mfcc16_mean                        -2.853603\n",
       "mfcc16_var                         39.687145\n",
       "mfcc17_mean                         -3.24128\n",
       "mfcc17_var                         36.488243\n",
       "mfcc18_mean                         0.722209\n",
       "mfcc18_var                         38.099152\n",
       "mfcc19_mean                        -5.050335\n",
       "mfcc19_var                         33.618073\n",
       "mfcc20_mean                        -0.243027\n",
       "mfcc20_var                         43.771767\n",
       "label                                  blues\n",
       "Name: 0, dtype: object"
      ]
     },
     "execution_count": 5,
     "metadata": {},
     "output_type": "execute_result"
    }
   ],
   "source": [
    "DATA_PATH_30 = './Data/features_30_sec.csv'\n",
    "DATA_PATH_3 = './Data/features_3_sec.csv'\n",
    "def load_dataset(path):\n",
    "    ds = pd.read_csv(path)\n",
    "    return ds\n",
    "ds_30 = load_dataset(DATA_PATH_30)\n",
    "ds_3 = load_dataset(DATA_PATH_3)\n",
    "ds_3.iloc[0]"
   ]
  },
  {
   "cell_type": "code",
   "execution_count": 19,
   "id": "4b67048f",
   "metadata": {},
   "outputs": [
    {
     "data": {
      "text/plain": [
       "array([[-0.35746956, -0.36488606, -0.36489509, -0.36489826, -0.36489989,\n",
       "        -0.31304033,  1.21081265, -0.29750693,  1.144995  , -0.28113813,\n",
       "         7.03006052, -0.36489682, -0.36489699, -0.3648999 , -0.36489984,\n",
       "        -0.3648999 , -0.3648999 , -0.36558722,  0.18083638, -0.36553098,\n",
       "         0.15036526, -0.36556149,  0.15966289, -0.36556655,  0.16263755,\n",
       "        -0.36559252,  0.16527406, -0.36560702,  0.16043109, -0.36558605,\n",
       "         0.14896281, -0.36555721,  0.14517593, -0.36554968,  0.13861291,\n",
       "        -0.36551124,  0.13148057, -0.3654977 ,  0.13280989, -0.36552279,\n",
       "         0.14351985, -0.3655356 ,  0.13842842, -0.36550983,  0.12283471,\n",
       "        -0.36545257,  0.11292529, -0.36548247,  0.12130933, -0.36545975,\n",
       "         0.12311546, -0.36537672,  0.12694094, -0.365364  ,  0.12830148,\n",
       "        -0.36537668,  0.12886266]])"
      ]
     },
     "execution_count": 19,
     "metadata": {},
     "output_type": "execute_result"
    }
   ],
   "source": [
    "import librosa,librosa.display\n",
    "import numpy as np\n",
    "import os\n",
    "from Utils import *\n",
    "import pandas as pd\n",
    "from glob import glob\n",
    "from sklearn.preprocessing import StandardScaler,quantile_transform,LabelEncoder\n",
    "\n",
    "def audio_preprocess(path):\n",
    "    df = pd.DataFrame(columns=['tempo','chroma_stft_mean', 'chroma_stft_var', 'rms_mean', 'rms_var',\n",
    "       'spectral_centroid_mean', 'spectral_centroid_var',\n",
    "       'spectral_bandwidth_mean', 'spectral_bandwidth_var', 'rolloff_mean',\n",
    "       'rolloff_var', 'zero_crossing_rate_mean', 'zero_crossing_rate_var',\n",
    "       'harmony_mean', 'harmony_var', 'perceptr_mean', 'perceptr_var',\n",
    "       'mfcc1_mean', 'mfcc1_var', 'mfcc2_mean', 'mfcc2_var', 'mfcc3_mean',\n",
    "       'mfcc3_var', 'mfcc4_mean', 'mfcc4_var', 'mfcc5_mean', 'mfcc5_var',\n",
    "       'mfcc6_mean', 'mfcc6_var', 'mfcc7_mean', 'mfcc7_var', 'mfcc8_mean',\n",
    "       'mfcc8_var', 'mfcc9_mean', 'mfcc9_var', 'mfcc10_mean', 'mfcc10_var',\n",
    "       'mfcc11_mean', 'mfcc11_var', 'mfcc12_mean', 'mfcc12_var', 'mfcc13_mean',\n",
    "       'mfcc13_var', 'mfcc14_mean', 'mfcc14_var', 'mfcc15_mean', 'mfcc15_var',\n",
    "       'mfcc16_mean', 'mfcc16_var', 'mfcc17_mean', 'mfcc17_var', 'mfcc18_mean',\n",
    "       'mfcc18_var', 'mfcc19_mean', 'mfcc19_var', 'mfcc20_mean', 'mfcc20_var'])\n",
    "    signal, sr = librosa.load(path,\n",
    "                                sr=SR)\n",
    "    mfcc = librosa.feature.mfcc(y=signal,\n",
    "                                sr=SR,\n",
    "                                n_mfcc=N_MFCC,\n",
    "                                hop_length=HOP_LENGTH)\n",
    "    chroma_stft = librosa.feature.chroma_stft(y=signal,\n",
    "                                            sr=SR,\n",
    "                                            hop_length=HOP_LENGTH)\n",
    "    rms = librosa.feature.rms(y=signal,\n",
    "                            hop_length=HOP_LENGTH)\n",
    "    spectral_centroid = librosa.feature.spectral_centroid(y=signal,\n",
    "                                                        sr=SR,\n",
    "                                                        hop_length=HOP_LENGTH)\n",
    "    spectral_bandwidth = librosa.feature.spectral_bandwidth(y=signal,\n",
    "                                                        sr=SR,\n",
    "                                                        hop_length=HOP_LENGTH)\n",
    "    rolloff = librosa.feature.spectral_rolloff(y=signal,\n",
    "                                    sr=SR,\n",
    "                                    hop_length=HOP_LENGTH) \n",
    "    tempo = librosa.feature.tempo(y=signal)\n",
    "    zero_crossing_rate = librosa.zero_crossings(y=signal)\n",
    "    harmony, perceptr = librosa.effects.hpss(y=signal)\n",
    "    mfcc = librosa.feature.mfcc(y=signal,\n",
    "                            sr=SR,\n",
    "                            n_mfcc=N_MFCC,\n",
    "                            hop_length=HOP_LENGTH)\n",
    "\n",
    "    df['chroma_stft_mean']= [np.mean(chroma_stft)]\n",
    "    df['chroma_stft_var']= [np.var(chroma_stft)]\n",
    "    df['rms_mean']= [np.mean(rms)]\n",
    "    df['rms_var']= [np.var(rms)]\n",
    "    df['spectral_centroid_mean']= [np.mean(spectral_centroid)]\n",
    "    df['spectral_centroid_var']= [np.var(spectral_centroid)]\n",
    "    df['spectral_bandwidth_mean']= [np.mean(spectral_bandwidth)]\n",
    "    df['spectral_bandwidth_var']= [np.var(spectral_bandwidth)]\n",
    "    df['rolloff_mean']= [np.mean(rolloff)]\n",
    "    df['rolloff_var']= [np.var(rolloff)]\n",
    "    df['zero_crossing_rate_mean']= [np.mean(zero_crossing_rate)]\n",
    "    df['zero_crossing_rate_var']= [np.var(zero_crossing_rate)]\n",
    "    df['harmony_mean']= [np.mean(harmony)]\n",
    "    df['harmony_var']=[np.var(harmony)]\n",
    "    df['perceptr_mean']= [np.mean(perceptr)]\n",
    "    df['perceptr_var']= [np.var(perceptr)]\n",
    "    df['tempo']= tempo\n",
    "    for x in range(20):\n",
    "        feat1 = \"mfcc\" + str(x+1) + \"_mean\"\n",
    "        feat2 = \"mfcc\" + str(x+1) + \"_var\"\n",
    "        df[feat1] = [mfcc[:,x].mean()]\n",
    "        df[feat2] = [mfcc[:,x].var()]\n",
    "    #Using quantile tranformation and stantard scaler for X\n",
    "    sc = StandardScaler()\n",
    "    X_sc = sc.fit_transform(df.values.reshape(-1,1))\n",
    "    return X_sc.reshape(1,-1)\n",
    "X_ = audio_preprocess('C:/Users/Admin/Desktop/Music_Classification/Data/genres_original/classical/classical.00027.wav')\n",
    "X_"
   ]
  },
  {
   "cell_type": "code",
   "execution_count": 22,
   "id": "fd9d5a74",
   "metadata": {},
   "outputs": [
    {
     "data": {
      "text/html": [
       "<style>#sk-container-id-6 {color: black;background-color: white;}#sk-container-id-6 pre{padding: 0;}#sk-container-id-6 div.sk-toggleable {background-color: white;}#sk-container-id-6 label.sk-toggleable__label {cursor: pointer;display: block;width: 100%;margin-bottom: 0;padding: 0.3em;box-sizing: border-box;text-align: center;}#sk-container-id-6 label.sk-toggleable__label-arrow:before {content: \"▸\";float: left;margin-right: 0.25em;color: #696969;}#sk-container-id-6 label.sk-toggleable__label-arrow:hover:before {color: black;}#sk-container-id-6 div.sk-estimator:hover label.sk-toggleable__label-arrow:before {color: black;}#sk-container-id-6 div.sk-toggleable__content {max-height: 0;max-width: 0;overflow: hidden;text-align: left;background-color: #f0f8ff;}#sk-container-id-6 div.sk-toggleable__content pre {margin: 0.2em;color: black;border-radius: 0.25em;background-color: #f0f8ff;}#sk-container-id-6 input.sk-toggleable__control:checked~div.sk-toggleable__content {max-height: 200px;max-width: 100%;overflow: auto;}#sk-container-id-6 input.sk-toggleable__control:checked~label.sk-toggleable__label-arrow:before {content: \"▾\";}#sk-container-id-6 div.sk-estimator input.sk-toggleable__control:checked~label.sk-toggleable__label {background-color: #d4ebff;}#sk-container-id-6 div.sk-label input.sk-toggleable__control:checked~label.sk-toggleable__label {background-color: #d4ebff;}#sk-container-id-6 input.sk-hidden--visually {border: 0;clip: rect(1px 1px 1px 1px);clip: rect(1px, 1px, 1px, 1px);height: 1px;margin: -1px;overflow: hidden;padding: 0;position: absolute;width: 1px;}#sk-container-id-6 div.sk-estimator {font-family: monospace;background-color: #f0f8ff;border: 1px dotted black;border-radius: 0.25em;box-sizing: border-box;margin-bottom: 0.5em;}#sk-container-id-6 div.sk-estimator:hover {background-color: #d4ebff;}#sk-container-id-6 div.sk-parallel-item::after {content: \"\";width: 100%;border-bottom: 1px solid gray;flex-grow: 1;}#sk-container-id-6 div.sk-label:hover label.sk-toggleable__label {background-color: #d4ebff;}#sk-container-id-6 div.sk-serial::before {content: \"\";position: absolute;border-left: 1px solid gray;box-sizing: border-box;top: 0;bottom: 0;left: 50%;z-index: 0;}#sk-container-id-6 div.sk-serial {display: flex;flex-direction: column;align-items: center;background-color: white;padding-right: 0.2em;padding-left: 0.2em;position: relative;}#sk-container-id-6 div.sk-item {position: relative;z-index: 1;}#sk-container-id-6 div.sk-parallel {display: flex;align-items: stretch;justify-content: center;background-color: white;position: relative;}#sk-container-id-6 div.sk-item::before, #sk-container-id-6 div.sk-parallel-item::before {content: \"\";position: absolute;border-left: 1px solid gray;box-sizing: border-box;top: 0;bottom: 0;left: 50%;z-index: -1;}#sk-container-id-6 div.sk-parallel-item {display: flex;flex-direction: column;z-index: 1;position: relative;background-color: white;}#sk-container-id-6 div.sk-parallel-item:first-child::after {align-self: flex-end;width: 50%;}#sk-container-id-6 div.sk-parallel-item:last-child::after {align-self: flex-start;width: 50%;}#sk-container-id-6 div.sk-parallel-item:only-child::after {width: 0;}#sk-container-id-6 div.sk-dashed-wrapped {border: 1px dashed gray;margin: 0 0.4em 0.5em 0.4em;box-sizing: border-box;padding-bottom: 0.4em;background-color: white;}#sk-container-id-6 div.sk-label label {font-family: monospace;font-weight: bold;display: inline-block;line-height: 1.2em;}#sk-container-id-6 div.sk-label-container {text-align: center;}#sk-container-id-6 div.sk-container {/* jupyter's `normalize.less` sets `[hidden] { display: none; }` but bootstrap.min.css set `[hidden] { display: none !important; }` so we also need the `!important` here to be able to override the default hidden behavior on the sphinx rendered scikit-learn.org. See: https://github.com/scikit-learn/scikit-learn/issues/21755 */display: inline-block !important;position: relative;}#sk-container-id-6 div.sk-text-repr-fallback {display: none;}</style><div id=\"sk-container-id-6\" class=\"sk-top-container\"><div class=\"sk-text-repr-fallback\"><pre>RandomForestClassifier(criterion=&#x27;entropy&#x27;)</pre><b>In a Jupyter environment, please rerun this cell to show the HTML representation or trust the notebook. <br />On GitHub, the HTML representation is unable to render, please try loading this page with nbviewer.org.</b></div><div class=\"sk-container\" hidden><div class=\"sk-item\"><div class=\"sk-estimator sk-toggleable\"><input class=\"sk-toggleable__control sk-hidden--visually\" id=\"sk-estimator-id-6\" type=\"checkbox\" checked><label for=\"sk-estimator-id-6\" class=\"sk-toggleable__label sk-toggleable__label-arrow\">RandomForestClassifier</label><div class=\"sk-toggleable__content\"><pre>RandomForestClassifier(criterion=&#x27;entropy&#x27;)</pre></div></div></div></div></div>"
      ],
      "text/plain": [
       "RandomForestClassifier(criterion='entropy')"
      ]
     },
     "execution_count": 22,
     "metadata": {},
     "output_type": "execute_result"
    }
   ],
   "source": [
    "import pickle\n",
    "mapping = {'blues': 0,\n",
    "    'classical': 1,\n",
    "    'country': 2,\n",
    "    'disco': 3,\n",
    "    'hiphop': 4,\n",
    "    'jazz': 5,\n",
    "    'metal': 6,\n",
    "    'pop': 7,\n",
    "    'reggae': 8,\n",
    "    'rock': 9}\n",
    "with open('rfc_model','rb') as f:\n",
    "    model = pickle.load(f)\n",
    "model"
   ]
  },
  {
   "cell_type": "code",
   "execution_count": 23,
   "id": "2f1c3da0",
   "metadata": {},
   "outputs": [
    {
     "data": {
      "text/plain": [
       "array([1])"
      ]
     },
     "execution_count": 23,
     "metadata": {},
     "output_type": "execute_result"
    }
   ],
   "source": [
    "el = model.predict(X_)\n",
    "el"
   ]
  },
  {
   "cell_type": "code",
   "execution_count": 24,
   "id": "e599f3c7",
   "metadata": {},
   "outputs": [
    {
     "data": {
      "text/plain": [
       "'classical'"
      ]
     },
     "execution_count": 24,
     "metadata": {},
     "output_type": "execute_result"
    }
   ],
   "source": [
    "lb = {v: k for k, v in mapping.items()}.get(el.item())\n",
    "lb"
   ]
  },
  {
   "cell_type": "code",
   "execution_count": 50,
   "id": "7e0359a9",
   "metadata": {},
   "outputs": [],
   "source": [
    "import librosa,librosa.display\n",
    "import numpy as np\n",
    "import os\n",
    "from Utils import *\n",
    "import pandas as pd\n",
    "from glob import glob\n",
    "from sklearn.preprocessing import StandardScaler,quantile_transform,LabelEncoder,MinMaxScaler\n",
    "from sklearn.model_selection import train_test_split\n",
    "import pickle\n",
    "from sklearn.model_selection import GridSearchCV\n",
    "from sklearn.ensemble import RandomForestClassifier\n",
    "from sklearn.neighbors import KNeighborsClassifier\n",
    "from sklearn.linear_model import LogisticRegression\n",
    "X = pd.read_csv('./X.csv')\n",
    "\n",
    "def audio_process(path):\n",
    "    df = pd.DataFrame(columns=[\n",
    "    'chroma_stft_mean', 'chroma_stft_var', 'rms_mean', 'rms_var',\n",
    "    'spectral_centroid_mean', 'spectral_centroid_var', 'spectral_bandwidth_mean',\n",
    "    'spectral_bandwidth_var', 'rolloff_mean', 'rolloff_var', 'zero_crossing_rate_mean',\n",
    "    'zero_crossing_rate_var', 'harmony_mean', 'harmony_var', 'perceptr_mean',\n",
    "    'perceptr_var', 'tempo', 'mfcc1_mean', 'mfcc1_var', 'mfcc2_mean', 'mfcc2_var',\n",
    "    'mfcc3_mean', 'mfcc3_var', 'mfcc4_mean', 'mfcc4_var', 'mfcc5_mean', 'mfcc5_var',\n",
    "    'mfcc6_mean', 'mfcc6_var', 'mfcc7_mean', 'mfcc7_var', 'mfcc8_mean', 'mfcc8_var',\n",
    "    'mfcc9_mean', 'mfcc9_var', 'mfcc10_mean', 'mfcc10_var', 'mfcc11_mean', 'mfcc11_var',\n",
    "    'mfcc12_mean', 'mfcc12_var', 'mfcc13_mean', 'mfcc13_var', 'mfcc14_mean', 'mfcc14_var',\n",
    "    'mfcc15_mean', 'mfcc15_var', 'mfcc16_mean', 'mfcc16_var', 'mfcc17_mean', 'mfcc17_var',\n",
    "    'mfcc18_mean', 'mfcc18_var', 'mfcc19_mean', 'mfcc19_var', 'mfcc20_mean', 'mfcc20_var'])\n",
    "    \n",
    "    signal,sr = librosa.load(path,sr=SR)\n",
    "    chromagram = librosa.feature.chroma_stft(y=signal, sr=SR, hop_length=HOP_LENGTH)\n",
    "    rms = librosa.feature.rms(y=signal)\n",
    "    spec_cent = librosa.feature.spectral_centroid(y=signal)\n",
    "    spec_band = librosa.feature.spectral_bandwidth(y=signal, sr=SR)\n",
    "    spec_roll = librosa.feature.spectral_rolloff(y=signal, sr=SR)\n",
    "    zero_crossing = librosa.feature.zero_crossing_rate(y=signal)\n",
    "    harmony, perceptr = librosa.effects.hpss(y=signal)\n",
    "    tempo, _ = librosa.beat.beat_track(y=signal, sr=SR)\n",
    "    mfcc = librosa.feature.mfcc(y=signal, sr=SR, n_mfcc=N_MFCC, hop_length=HOP_LENGTH)\n",
    "\n",
    "    features = {\n",
    "        'chroma_stft_mean': np.mean(chromagram),\n",
    "        'chroma_stft_var': np.var(chromagram),\n",
    "        'rms_mean': np.mean(rms),\n",
    "        'rms_var': np.var(rms),\n",
    "        'spectral_centroid_mean': np.mean(spec_cent),\n",
    "        'spectral_centroid_var': np.var(spec_cent),\n",
    "        'spectral_bandwidth_mean': np.mean(spec_band),\n",
    "        'spectral_bandwidth_var': np.var(spec_band),\n",
    "        'rolloff_mean': np.mean(spec_roll),\n",
    "        'rolloff_var': np.var(spec_roll),\n",
    "        'zero_crossing_rate_mean': np.mean(zero_crossing),\n",
    "        'zero_crossing_rate_var': np.var(zero_crossing),\n",
    "        'harmony_mean': np.mean(harmony),\n",
    "        'harmony_var': np.var(harmony),\n",
    "        'perceptr_mean': np.mean(perceptr),\n",
    "        'perceptr_var': np.var(perceptr),\n",
    "        'tempo': tempo\n",
    "    }\n",
    "    mapping={'blues': 0,\n",
    " 'classical': 1,\n",
    " 'country': 2,\n",
    " 'disco': 3,\n",
    " 'hiphop': 4,\n",
    " 'jazz': 5,\n",
    " 'metal': 6,\n",
    " 'pop': 7,\n",
    " 'reggae': 8,\n",
    " 'rock': 9}\n",
    "    for x in range(20):\n",
    "        features[f'mfcc{x+1}_mean'] = np.mean(mfcc[x, :])\n",
    "        features[f'mfcc{x+1}_var'] = np.var(mfcc[x, :])\n",
    "\n",
    "    df = pd.concat([df, pd.DataFrame(features, index=[0])], ignore_index=True)\n",
    "    df_sc = pd.concat([X.drop('Unnamed: 0',axis='columns'),df],ignore_index=True)\n",
    "    \n",
    "    sc = StandardScaler()\n",
    "    X_sc = sc.fit_transform(df_sc)\n",
    "    X_pp = X_sc[-1]\n",
    "    return X_pp.reshape(1,-1)"
   ]
  },
  {
   "cell_type": "code",
   "execution_count": 57,
   "id": "1d16593e",
   "metadata": {},
   "outputs": [
    {
     "name": "stderr",
     "output_type": "stream",
     "text": [
      "C:\\Users\\Admin\\AppData\\Local\\Temp\\ipykernel_1176\\725756770.py:74: FutureWarning: The behavior of DataFrame concatenation with empty or all-NA entries is deprecated. In a future version, this will no longer exclude empty or all-NA columns when determining the result dtypes. To retain the old behavior, exclude the relevant entries before the concat operation.\n",
      "  df = pd.concat([df, pd.DataFrame(features, index=[0])], ignore_index=True)\n"
     ]
    }
   ],
   "source": [
    "X_pp = audio_process('C:/Users/Admin/Desktop/Music_Classification/Data/genres_original/hiphop/hiphop.00000.wav')"
   ]
  },
  {
   "cell_type": "code",
   "execution_count": 52,
   "id": "c0061a1b",
   "metadata": {},
   "outputs": [
    {
     "data": {
      "text/plain": [
       "array([[-0.35122721,  0.31310874, -0.00977797, -0.061366  , -0.58405072,\n",
       "        -0.84793485, -0.45644602, -0.53039961, -0.48702782, -0.66109855,\n",
       "        -0.49263344, -0.73442651,  0.18821348, -0.37396377,  0.35481997,\n",
       "         0.00442625,  0.13364426,  0.30848616, -0.42599331,  0.70325167,\n",
       "        -0.93498993, -0.47160467, -0.8105059 ,  0.3634941 , -0.59735699,\n",
       "        -0.42608876, -0.0637334 ,  0.33598425, -0.55587856, -0.86102464,\n",
       "        -0.83553108,  0.49796704, -0.46776822, -0.63625493, -0.16024451,\n",
       "         0.40764144, -0.50067475, -0.3372777 , -0.36111056,  0.6437903 ,\n",
       "        -0.53262403,  0.18280384, -0.80323063,  0.79023909, -0.70365075,\n",
       "        -0.26424506, -0.38575987, -0.08701318, -0.24577527,  0.50041526,\n",
       "        -0.77875817, -0.2372229 , -0.64208602,  0.00709081, -0.30043629,\n",
       "         0.60360232, -0.5113262 ]])"
      ]
     },
     "execution_count": 52,
     "metadata": {},
     "output_type": "execute_result"
    }
   ],
   "source": [
    "X_pp"
   ]
  },
  {
   "cell_type": "code",
   "execution_count": 53,
   "id": "d2d146bf",
   "metadata": {},
   "outputs": [],
   "source": [
    "with open('rfc_model','rb') as f:\n",
    "    rfc_model = pickle.load(f)\n",
    "with open('knn_model','rb') as f:\n",
    "    knn_model = pickle.load(f)\n",
    "with open('lrc_model','rb') as f:\n",
    "    lrc_model = pickle.load(f)\n",
    "encoded_label_r = rfc_model.predict(X_pp)\n",
    "encoded_label_k = knn_model.predict(X_pp)\n",
    "encoded_label_l = lrc_model.predict(X_pp)"
   ]
  },
  {
   "cell_type": "code",
   "execution_count": 56,
   "id": "435ef38d",
   "metadata": {},
   "outputs": [
    {
     "data": {
      "text/plain": [
       "array([0])"
      ]
     },
     "execution_count": 56,
     "metadata": {},
     "output_type": "execute_result"
    }
   ],
   "source": [
    "encoded_label_r"
   ]
  },
  {
   "cell_type": "code",
   "execution_count": null,
   "id": "0235ea3a",
   "metadata": {},
   "outputs": [],
   "source": []
  }
 ],
 "metadata": {
  "kernelspec": {
   "display_name": "Python 3 (ipykernel)",
   "language": "python",
   "name": "python3"
  },
  "language_info": {
   "codemirror_mode": {
    "name": "ipython",
    "version": 3
   },
   "file_extension": ".py",
   "mimetype": "text/x-python",
   "name": "python",
   "nbconvert_exporter": "python",
   "pygments_lexer": "ipython3",
   "version": "3.10.9"
  }
 },
 "nbformat": 4,
 "nbformat_minor": 5
}
